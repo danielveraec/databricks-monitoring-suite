{
 "cells": [
  {
   "cell_type": "markdown",
   "metadata": {
    "application/vnd.databricks.v1+cell": {
     "cellMetadata": {
      "byteLimit": 2048000,
      "rowLimit": 10000
     },
     "inputWidgets": {},
     "nuid": "33dd62fc-8afe-4d52-bf72-f7e46ca03178",
     "showTitle": false,
     "tableResultSettingsMap": {},
     "title": ""
    }
   },
   "source": [
    "## Instructions\n",
    "- Attach notebook to a cluster (Serverless preferred).\n",
    "- Run Cells 2, 3 and 4 for the input widget parameters to get polpulated.\n",
    "- Fill in the parameters. Select the dashboard to extract and provide the catalog and schema that were used while deploying the dashboards.\n",
    "- Run the rest of the notebook to extract the dashboard json into the current directory."
   ]
  },
  {
   "cell_type": "code",
   "execution_count": 0,
   "metadata": {
    "application/vnd.databricks.v1+cell": {
     "cellMetadata": {
      "byteLimit": 2048000,
      "rowLimit": 10000
     },
     "inputWidgets": {},
     "nuid": "a36457b6-97c5-4bcb-9c2a-8a28004f3ba3",
     "showTitle": false,
     "tableResultSettingsMap": {},
     "title": ""
    }
   },
   "outputs": [],
   "source": [
    "%pip install databricks-sdk==0.38.0\n",
    "dbutils.library.restartPython()"
   ]
  },
  {
   "cell_type": "code",
   "execution_count": 0,
   "metadata": {
    "application/vnd.databricks.v1+cell": {
     "cellMetadata": {
      "byteLimit": 2048000,
      "rowLimit": 10000
     },
     "collapsed": true,
     "inputWidgets": {},
     "nuid": "33147bb9-908f-47eb-9c5e-f54c8925e0ae",
     "showTitle": false,
     "tableResultSettingsMap": {},
     "title": ""
    }
   },
   "outputs": [],
   "source": [
    "import json\n",
    "from pathlib import Path\n",
    "import os\n",
    "import re\n",
    "\n",
    "from databricks.sdk import WorkspaceClient\n",
    "from databricks.sdk.service import jobs\n",
    "\n",
    "# Client initialized for the current workspace\n",
    "w = WorkspaceClient()\n",
    "\n",
    "# List all the JSON files from the current folder\n",
    "def list_json_dash_files():\n",
    "    notebook_folder = json.loads(\n",
    "        dbutils.notebook.entry_point.getDbutils().notebook().getContext().safeToJson()\n",
    "    )[\"attributes\"][\"notebook_path\"]\n",
    "    new_folder_name = \"dashboard_assess_dbx_costs\"\n",
    "    dashboard_save_path = (\n",
    "        f'{notebook_folder.rsplit(\"/\", 1)[0]}/dashboard_assess_dbx_costs'\n",
    "    )\n",
    "    Path(new_folder_name).mkdir(parents=True, exist_ok=True)\n",
    "    json_files = [\n",
    "        f for f in os.listdir(\".\") if os.path.isfile(f) and f.endswith(\".lvdash.json\")\n",
    "    ]\n",
    "    print(f\"Dashboard JSON files found: {json_files}\")\n",
    "    return json_files, dashboard_save_path\n",
    "\n",
    "\n",
    "def extract_dashboard(selected_dashboard, catalog, schema):\n",
    "    dashboard_id = w.workspace.get_status(\n",
    "        f\"{dashboard_save_path}/{selected_dashboard}\"\n",
    "    ).resource_id\n",
    "    dash_details = w.lakeview.get(dashboard_id).serialized_dashboard\n",
    "    replaced_dash = dash_details.replace(f\"{catalog}\", \"{catalog}\").replace(\n",
    "        f\"{schema}\", \"{schema}\"\n",
    "    )\n",
    "    urls = re.findall(\"(https?://\\S+/dashboard\\S+/published)\", replaced_dash)\n",
    "    for url in urls:\n",
    "        replaced_dash = replaced_dash.replace(f\"{url}\", \"*\")\n",
    "    parsed_file = json.loads(replaced_dash)\n",
    "\n",
    "    with open(f\"{selected_dashboard}\", \"w\") as json_file:\n",
    "        json_file.write(json.dumps(parsed_file, indent=4))\n",
    "    print(f'Dashboard \"{selected_dashboard}\" extracted successfully')\n",
    "\n",
    "\n",
    "json_files, dashboard_save_path = list_json_dash_files()"
   ]
  },
  {
   "cell_type": "code",
   "execution_count": 0,
   "metadata": {
    "application/vnd.databricks.v1+cell": {
     "cellMetadata": {
      "byteLimit": 2048000,
      "rowLimit": 10000
     },
     "inputWidgets": {},
     "nuid": "cc83f044-98fe-42cb-a3a2-ddb898a6d398",
     "showTitle": false,
     "tableResultSettingsMap": {},
     "title": ""
    }
   },
   "outputs": [],
   "source": [
    "dbutils.widgets.dropdown('selected_dashboard', json_files[0], json_files, 'Dashboard to extract') # Select the dashboard to extract\n",
    "dbutils.widgets.text('catalog', 'main') # Provide the catalog that was used when the dashboard was created\n",
    "dbutils.widgets.text('schema', 'default') # Provide the schema that was used when the dashboard was created"
   ]
  },
  {
   "cell_type": "code",
   "execution_count": 0,
   "metadata": {
    "application/vnd.databricks.v1+cell": {
     "cellMetadata": {
      "byteLimit": 2048000,
      "rowLimit": 10000
     },
     "inputWidgets": {},
     "nuid": "3017395e-244e-4135-ab21-e338f5558561",
     "showTitle": false,
     "tableResultSettingsMap": {},
     "title": ""
    }
   },
   "outputs": [],
   "source": [
    "selected_dashboard = dbutils.widgets.get('selected_dashboard')\n",
    "catalog = dbutils.widgets.get('catalog')\n",
    "schema = dbutils.widgets.get('schema')"
   ]
  },
  {
   "cell_type": "code",
   "execution_count": 0,
   "metadata": {
    "application/vnd.databricks.v1+cell": {
     "cellMetadata": {
      "byteLimit": 2048000,
      "rowLimit": 10000
     },
     "inputWidgets": {},
     "nuid": "f08029c3-a7a5-460d-89e3-bb21e67ba09f",
     "showTitle": false,
     "tableResultSettingsMap": {},
     "title": ""
    }
   },
   "outputs": [],
   "source": [
    "print(\"Extracting dashboard...\")\n",
    "extract_dashboard(selected_dashboard, catalog, schema)"
   ]
  }
 ],
 "metadata": {
  "application/vnd.databricks.v1+notebook": {
   "dashboards": [],
   "environmentMetadata": {
    "base_environment": "",
    "client": "1"
   },
   "language": "python",
   "notebookMetadata": {
    "pythonIndentUnit": 2
   },
   "notebookName": "extract_dashboard",
   "widgets": {
    "catalog": {
     "currentValue": "main",
     "nuid": "a40fe425-6fe3-415d-939a-11b7a1745a7b",
     "typedWidgetInfo": {
      "autoCreated": false,
      "defaultValue": "main",
      "label": null,
      "name": "catalog",
      "options": {
       "widgetDisplayType": "Text",
       "validationRegex": null
      },
      "parameterDataType": "String"
     },
     "widgetInfo": {
      "widgetType": "text",
      "defaultValue": "main",
      "label": null,
      "name": "catalog",
      "options": {
       "widgetType": "text",
       "autoCreated": null,
       "validationRegex": null
      }
     }
    },
    "schema": {
     "currentValue": "default",
     "nuid": "dc107deb-31eb-401b-9426-09ce465ade23",
     "typedWidgetInfo": {
      "autoCreated": false,
      "defaultValue": "default",
      "label": null,
      "name": "schema",
      "options": {
       "widgetDisplayType": "Text",
       "validationRegex": null
      },
      "parameterDataType": "String"
     },
     "widgetInfo": {
      "widgetType": "text",
      "defaultValue": "default",
      "label": null,
      "name": "schema",
      "options": {
       "widgetType": "text",
       "autoCreated": null,
       "validationRegex": null
      }
     }
    },
    "selected_dashboard": {
     "currentValue": "[System Tables] Databricks Unified Cost Analysis.lvdash.json",
     "nuid": "a091d071-c626-45cf-85db-a55e72fdea84",
     "typedWidgetInfo": {
      "autoCreated": false,
      "defaultValue": "[System Tables] Job Operations and Cost Management.lvdash.json",
      "label": "Dashboard to extract",
      "name": "selected_dashboard",
      "options": {
       "widgetDisplayType": "Dropdown",
       "choices": [
        "[System Tables] Job Operations and Cost Management.lvdash.json",
        "[System Tables] Databricks Unified Cost Analysis.lvdash.json",
        "[System Tables] Data Lineage and Catalog Utilization.lvdash.json",
        "[System Tables] DBSQL Cost & Query Performance.lvdash.json"
       ],
       "fixedDomain": true,
       "multiselect": false
      },
      "parameterDataType": "String"
     },
     "widgetInfo": {
      "widgetType": "dropdown",
      "defaultValue": "[System Tables] Job Operations and Cost Management.lvdash.json",
      "label": "Dashboard to extract",
      "name": "selected_dashboard",
      "options": {
       "widgetType": "dropdown",
       "autoCreated": null,
       "choices": [
        "[System Tables] Job Operations and Cost Management.lvdash.json",
        "[System Tables] Databricks Unified Cost Analysis.lvdash.json",
        "[System Tables] Data Lineage and Catalog Utilization.lvdash.json",
        "[System Tables] DBSQL Cost & Query Performance.lvdash.json"
       ]
      }
     }
    }
   }
  },
  "language_info": {
   "name": "python"
  }
 },
 "nbformat": 4,
 "nbformat_minor": 0
}
